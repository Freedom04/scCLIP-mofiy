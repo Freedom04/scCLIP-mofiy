{
 "cells": [
  {
   "cell_type": "code",
   "execution_count": 2,
   "metadata": {},
   "outputs": [],
   "source": [
    "import scanpy as sc\n",
    "from utils.metrics import matching_metrics, calculate_metrics"
   ]
  },
  {
   "cell_type": "code",
   "execution_count": 3,
   "metadata": {},
   "outputs": [],
   "source": [
    "rna_adata = sc.read_h5ad(\"results/AD.h5mu/1_False_30000_0.00015_v1.0/AD.h5mu/rna.h5ad\")\n",
    "atac_adata = sc.read_h5ad(\"results/AD.h5mu/1_False_30000_0.00015_v1.0/AD.h5mu/atac.h5ad\")"
   ]
  },
  {
   "cell_type": "code",
   "execution_count": 4,
   "metadata": {},
   "outputs": [
    {
     "data": {
      "text/plain": [
       "AnnData object with n_obs × n_vars = 105332 × 128\n",
       "    obs: 'rna:cell_type', 'atac:cell_type', 'cell_type', 'leiden'\n",
       "    uns: 'cell_type_colors', 'leiden', 'neighbors', 'umap'\n",
       "    obsm: 'X_umap'\n",
       "    obsp: 'connectivities', 'distances'"
      ]
     },
     "execution_count": 4,
     "metadata": {},
     "output_type": "execute_result"
    }
   ],
   "source": [
    "rna_adata"
   ]
  },
  {
   "cell_type": "code",
   "execution_count": 5,
   "metadata": {},
   "outputs": [
    {
     "data": {
      "text/plain": [
       "{'silhoutte_avg': 0.68381035,\n",
       " 'ARI': 0.14217683899962266,\n",
       " 'NMI': 0.5519308244057505}"
      ]
     },
     "execution_count": 5,
     "metadata": {},
     "output_type": "execute_result"
    }
   ],
   "source": [
    "rna_metrics = calculate_metrics(rna_adata, rna_adata.obs['cell_type'], rna_adata.obs['leiden'])\n",
    "rna_metrics"
   ]
  },
  {
   "cell_type": "code",
   "execution_count": 6,
   "metadata": {},
   "outputs": [
    {
     "data": {
      "text/plain": [
       "{'silhoutte_avg': 0.67967355,\n",
       " 'ARI': 0.1450622519325674,\n",
       " 'NMI': 0.5376026147096923}"
      ]
     },
     "execution_count": 6,
     "metadata": {},
     "output_type": "execute_result"
    }
   ],
   "source": [
    "atac_metrics = calculate_metrics(atac_adata, atac_adata.obs['cell_type'], atac_adata.obs['leiden'])\n",
    "atac_metrics"
   ]
  },
  {
   "cell_type": "code",
   "execution_count": null,
   "metadata": {},
   "outputs": [],
   "source": []
  }
 ],
 "metadata": {
  "kernelspec": {
   "display_name": "scCLIPenvs-NuI542pl",
   "language": "python",
   "name": "python3"
  },
  "language_info": {
   "codemirror_mode": {
    "name": "ipython",
    "version": 3
   },
   "file_extension": ".py",
   "mimetype": "text/x-python",
   "name": "python",
   "nbconvert_exporter": "python",
   "pygments_lexer": "ipython3",
   "version": "3.10.13"
  }
 },
 "nbformat": 4,
 "nbformat_minor": 2
}
